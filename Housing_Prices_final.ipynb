{
 "cells": [
  {
   "cell_type": "code",
   "execution_count": 1,
   "id": "0c2f7b6a",
   "metadata": {},
   "outputs": [],
   "source": [
    "import numpy as np\n",
    "import pandas as pd\n",
    "import matplotlib.pyplot as plt\n",
    "import seaborn as sns\n",
    "from sklearn import linear_model\n",
    "from sklearn import metrics\n",
    "from sklearn.ensemble import RandomForestRegressor\n",
    "from sklearn.metrics import mean_squared_error\n",
    "\n",
    "%matplotlib inline "
   ]
  },
  {
   "cell_type": "code",
   "execution_count": 2,
   "id": "730f3905",
   "metadata": {},
   "outputs": [
    {
     "data": {
      "text/html": [
       "<div>\n",
       "<style scoped>\n",
       "    .dataframe tbody tr th:only-of-type {\n",
       "        vertical-align: middle;\n",
       "    }\n",
       "\n",
       "    .dataframe tbody tr th {\n",
       "        vertical-align: top;\n",
       "    }\n",
       "\n",
       "    .dataframe thead th {\n",
       "        text-align: right;\n",
       "    }\n",
       "</style>\n",
       "<table border=\"1\" class=\"dataframe\">\n",
       "  <thead>\n",
       "    <tr style=\"text-align: right;\">\n",
       "      <th></th>\n",
       "      <th>Id</th>\n",
       "      <th>MSSubClass</th>\n",
       "      <th>MSZoning</th>\n",
       "      <th>LotFrontage</th>\n",
       "      <th>LotArea</th>\n",
       "      <th>Street</th>\n",
       "      <th>Alley</th>\n",
       "      <th>LotShape</th>\n",
       "      <th>LandContour</th>\n",
       "      <th>Utilities</th>\n",
       "      <th>...</th>\n",
       "      <th>PoolArea</th>\n",
       "      <th>PoolQC</th>\n",
       "      <th>Fence</th>\n",
       "      <th>MiscFeature</th>\n",
       "      <th>MiscVal</th>\n",
       "      <th>MoSold</th>\n",
       "      <th>YrSold</th>\n",
       "      <th>SaleType</th>\n",
       "      <th>SaleCondition</th>\n",
       "      <th>SalePrice</th>\n",
       "    </tr>\n",
       "  </thead>\n",
       "  <tbody>\n",
       "    <tr>\n",
       "      <th>0</th>\n",
       "      <td>1</td>\n",
       "      <td>60</td>\n",
       "      <td>RL</td>\n",
       "      <td>65.0</td>\n",
       "      <td>8450</td>\n",
       "      <td>Pave</td>\n",
       "      <td>NaN</td>\n",
       "      <td>Reg</td>\n",
       "      <td>Lvl</td>\n",
       "      <td>AllPub</td>\n",
       "      <td>...</td>\n",
       "      <td>0</td>\n",
       "      <td>NaN</td>\n",
       "      <td>NaN</td>\n",
       "      <td>NaN</td>\n",
       "      <td>0</td>\n",
       "      <td>2</td>\n",
       "      <td>2008</td>\n",
       "      <td>WD</td>\n",
       "      <td>Normal</td>\n",
       "      <td>208500</td>\n",
       "    </tr>\n",
       "    <tr>\n",
       "      <th>1</th>\n",
       "      <td>2</td>\n",
       "      <td>20</td>\n",
       "      <td>RL</td>\n",
       "      <td>80.0</td>\n",
       "      <td>9600</td>\n",
       "      <td>Pave</td>\n",
       "      <td>NaN</td>\n",
       "      <td>Reg</td>\n",
       "      <td>Lvl</td>\n",
       "      <td>AllPub</td>\n",
       "      <td>...</td>\n",
       "      <td>0</td>\n",
       "      <td>NaN</td>\n",
       "      <td>NaN</td>\n",
       "      <td>NaN</td>\n",
       "      <td>0</td>\n",
       "      <td>5</td>\n",
       "      <td>2007</td>\n",
       "      <td>WD</td>\n",
       "      <td>Normal</td>\n",
       "      <td>181500</td>\n",
       "    </tr>\n",
       "    <tr>\n",
       "      <th>2</th>\n",
       "      <td>3</td>\n",
       "      <td>60</td>\n",
       "      <td>RL</td>\n",
       "      <td>68.0</td>\n",
       "      <td>11250</td>\n",
       "      <td>Pave</td>\n",
       "      <td>NaN</td>\n",
       "      <td>IR1</td>\n",
       "      <td>Lvl</td>\n",
       "      <td>AllPub</td>\n",
       "      <td>...</td>\n",
       "      <td>0</td>\n",
       "      <td>NaN</td>\n",
       "      <td>NaN</td>\n",
       "      <td>NaN</td>\n",
       "      <td>0</td>\n",
       "      <td>9</td>\n",
       "      <td>2008</td>\n",
       "      <td>WD</td>\n",
       "      <td>Normal</td>\n",
       "      <td>223500</td>\n",
       "    </tr>\n",
       "    <tr>\n",
       "      <th>3</th>\n",
       "      <td>4</td>\n",
       "      <td>70</td>\n",
       "      <td>RL</td>\n",
       "      <td>60.0</td>\n",
       "      <td>9550</td>\n",
       "      <td>Pave</td>\n",
       "      <td>NaN</td>\n",
       "      <td>IR1</td>\n",
       "      <td>Lvl</td>\n",
       "      <td>AllPub</td>\n",
       "      <td>...</td>\n",
       "      <td>0</td>\n",
       "      <td>NaN</td>\n",
       "      <td>NaN</td>\n",
       "      <td>NaN</td>\n",
       "      <td>0</td>\n",
       "      <td>2</td>\n",
       "      <td>2006</td>\n",
       "      <td>WD</td>\n",
       "      <td>Abnorml</td>\n",
       "      <td>140000</td>\n",
       "    </tr>\n",
       "    <tr>\n",
       "      <th>4</th>\n",
       "      <td>5</td>\n",
       "      <td>60</td>\n",
       "      <td>RL</td>\n",
       "      <td>84.0</td>\n",
       "      <td>14260</td>\n",
       "      <td>Pave</td>\n",
       "      <td>NaN</td>\n",
       "      <td>IR1</td>\n",
       "      <td>Lvl</td>\n",
       "      <td>AllPub</td>\n",
       "      <td>...</td>\n",
       "      <td>0</td>\n",
       "      <td>NaN</td>\n",
       "      <td>NaN</td>\n",
       "      <td>NaN</td>\n",
       "      <td>0</td>\n",
       "      <td>12</td>\n",
       "      <td>2008</td>\n",
       "      <td>WD</td>\n",
       "      <td>Normal</td>\n",
       "      <td>250000</td>\n",
       "    </tr>\n",
       "    <tr>\n",
       "      <th>...</th>\n",
       "      <td>...</td>\n",
       "      <td>...</td>\n",
       "      <td>...</td>\n",
       "      <td>...</td>\n",
       "      <td>...</td>\n",
       "      <td>...</td>\n",
       "      <td>...</td>\n",
       "      <td>...</td>\n",
       "      <td>...</td>\n",
       "      <td>...</td>\n",
       "      <td>...</td>\n",
       "      <td>...</td>\n",
       "      <td>...</td>\n",
       "      <td>...</td>\n",
       "      <td>...</td>\n",
       "      <td>...</td>\n",
       "      <td>...</td>\n",
       "      <td>...</td>\n",
       "      <td>...</td>\n",
       "      <td>...</td>\n",
       "      <td>...</td>\n",
       "    </tr>\n",
       "    <tr>\n",
       "      <th>1455</th>\n",
       "      <td>1456</td>\n",
       "      <td>60</td>\n",
       "      <td>RL</td>\n",
       "      <td>62.0</td>\n",
       "      <td>7917</td>\n",
       "      <td>Pave</td>\n",
       "      <td>NaN</td>\n",
       "      <td>Reg</td>\n",
       "      <td>Lvl</td>\n",
       "      <td>AllPub</td>\n",
       "      <td>...</td>\n",
       "      <td>0</td>\n",
       "      <td>NaN</td>\n",
       "      <td>NaN</td>\n",
       "      <td>NaN</td>\n",
       "      <td>0</td>\n",
       "      <td>8</td>\n",
       "      <td>2007</td>\n",
       "      <td>WD</td>\n",
       "      <td>Normal</td>\n",
       "      <td>175000</td>\n",
       "    </tr>\n",
       "    <tr>\n",
       "      <th>1456</th>\n",
       "      <td>1457</td>\n",
       "      <td>20</td>\n",
       "      <td>RL</td>\n",
       "      <td>85.0</td>\n",
       "      <td>13175</td>\n",
       "      <td>Pave</td>\n",
       "      <td>NaN</td>\n",
       "      <td>Reg</td>\n",
       "      <td>Lvl</td>\n",
       "      <td>AllPub</td>\n",
       "      <td>...</td>\n",
       "      <td>0</td>\n",
       "      <td>NaN</td>\n",
       "      <td>MnPrv</td>\n",
       "      <td>NaN</td>\n",
       "      <td>0</td>\n",
       "      <td>2</td>\n",
       "      <td>2010</td>\n",
       "      <td>WD</td>\n",
       "      <td>Normal</td>\n",
       "      <td>210000</td>\n",
       "    </tr>\n",
       "    <tr>\n",
       "      <th>1457</th>\n",
       "      <td>1458</td>\n",
       "      <td>70</td>\n",
       "      <td>RL</td>\n",
       "      <td>66.0</td>\n",
       "      <td>9042</td>\n",
       "      <td>Pave</td>\n",
       "      <td>NaN</td>\n",
       "      <td>Reg</td>\n",
       "      <td>Lvl</td>\n",
       "      <td>AllPub</td>\n",
       "      <td>...</td>\n",
       "      <td>0</td>\n",
       "      <td>NaN</td>\n",
       "      <td>GdPrv</td>\n",
       "      <td>Shed</td>\n",
       "      <td>2500</td>\n",
       "      <td>5</td>\n",
       "      <td>2010</td>\n",
       "      <td>WD</td>\n",
       "      <td>Normal</td>\n",
       "      <td>266500</td>\n",
       "    </tr>\n",
       "    <tr>\n",
       "      <th>1458</th>\n",
       "      <td>1459</td>\n",
       "      <td>20</td>\n",
       "      <td>RL</td>\n",
       "      <td>68.0</td>\n",
       "      <td>9717</td>\n",
       "      <td>Pave</td>\n",
       "      <td>NaN</td>\n",
       "      <td>Reg</td>\n",
       "      <td>Lvl</td>\n",
       "      <td>AllPub</td>\n",
       "      <td>...</td>\n",
       "      <td>0</td>\n",
       "      <td>NaN</td>\n",
       "      <td>NaN</td>\n",
       "      <td>NaN</td>\n",
       "      <td>0</td>\n",
       "      <td>4</td>\n",
       "      <td>2010</td>\n",
       "      <td>WD</td>\n",
       "      <td>Normal</td>\n",
       "      <td>142125</td>\n",
       "    </tr>\n",
       "    <tr>\n",
       "      <th>1459</th>\n",
       "      <td>1460</td>\n",
       "      <td>20</td>\n",
       "      <td>RL</td>\n",
       "      <td>75.0</td>\n",
       "      <td>9937</td>\n",
       "      <td>Pave</td>\n",
       "      <td>NaN</td>\n",
       "      <td>Reg</td>\n",
       "      <td>Lvl</td>\n",
       "      <td>AllPub</td>\n",
       "      <td>...</td>\n",
       "      <td>0</td>\n",
       "      <td>NaN</td>\n",
       "      <td>NaN</td>\n",
       "      <td>NaN</td>\n",
       "      <td>0</td>\n",
       "      <td>6</td>\n",
       "      <td>2008</td>\n",
       "      <td>WD</td>\n",
       "      <td>Normal</td>\n",
       "      <td>147500</td>\n",
       "    </tr>\n",
       "  </tbody>\n",
       "</table>\n",
       "<p>1460 rows × 81 columns</p>\n",
       "</div>"
      ],
      "text/plain": [
       "        Id  MSSubClass MSZoning  LotFrontage  LotArea Street Alley LotShape  \\\n",
       "0        1          60       RL         65.0     8450   Pave   NaN      Reg   \n",
       "1        2          20       RL         80.0     9600   Pave   NaN      Reg   \n",
       "2        3          60       RL         68.0    11250   Pave   NaN      IR1   \n",
       "3        4          70       RL         60.0     9550   Pave   NaN      IR1   \n",
       "4        5          60       RL         84.0    14260   Pave   NaN      IR1   \n",
       "...    ...         ...      ...          ...      ...    ...   ...      ...   \n",
       "1455  1456          60       RL         62.0     7917   Pave   NaN      Reg   \n",
       "1456  1457          20       RL         85.0    13175   Pave   NaN      Reg   \n",
       "1457  1458          70       RL         66.0     9042   Pave   NaN      Reg   \n",
       "1458  1459          20       RL         68.0     9717   Pave   NaN      Reg   \n",
       "1459  1460          20       RL         75.0     9937   Pave   NaN      Reg   \n",
       "\n",
       "     LandContour Utilities  ... PoolArea PoolQC  Fence MiscFeature MiscVal  \\\n",
       "0            Lvl    AllPub  ...        0    NaN    NaN         NaN       0   \n",
       "1            Lvl    AllPub  ...        0    NaN    NaN         NaN       0   \n",
       "2            Lvl    AllPub  ...        0    NaN    NaN         NaN       0   \n",
       "3            Lvl    AllPub  ...        0    NaN    NaN         NaN       0   \n",
       "4            Lvl    AllPub  ...        0    NaN    NaN         NaN       0   \n",
       "...          ...       ...  ...      ...    ...    ...         ...     ...   \n",
       "1455         Lvl    AllPub  ...        0    NaN    NaN         NaN       0   \n",
       "1456         Lvl    AllPub  ...        0    NaN  MnPrv         NaN       0   \n",
       "1457         Lvl    AllPub  ...        0    NaN  GdPrv        Shed    2500   \n",
       "1458         Lvl    AllPub  ...        0    NaN    NaN         NaN       0   \n",
       "1459         Lvl    AllPub  ...        0    NaN    NaN         NaN       0   \n",
       "\n",
       "     MoSold YrSold  SaleType  SaleCondition  SalePrice  \n",
       "0         2   2008        WD         Normal     208500  \n",
       "1         5   2007        WD         Normal     181500  \n",
       "2         9   2008        WD         Normal     223500  \n",
       "3         2   2006        WD        Abnorml     140000  \n",
       "4        12   2008        WD         Normal     250000  \n",
       "...     ...    ...       ...            ...        ...  \n",
       "1455      8   2007        WD         Normal     175000  \n",
       "1456      2   2010        WD         Normal     210000  \n",
       "1457      5   2010        WD         Normal     266500  \n",
       "1458      4   2010        WD         Normal     142125  \n",
       "1459      6   2008        WD         Normal     147500  \n",
       "\n",
       "[1460 rows x 81 columns]"
      ]
     },
     "execution_count": 2,
     "metadata": {},
     "output_type": "execute_result"
    }
   ],
   "source": [
    "dframe = pd.read_csv(\"C:/Users/ANUSKA RAY/Downloads/train.csv\")\n",
    "dframe"
   ]
  },
  {
   "cell_type": "markdown",
   "id": "2db49b48",
   "metadata": {},
   "source": [
    "# Plotting"
   ]
  },
  {
   "cell_type": "markdown",
   "id": "bc6abd26",
   "metadata": {},
   "source": [
    "Visualizing the data by individually plotting different features"
   ]
  },
  {
   "cell_type": "code",
   "execution_count": 3,
   "id": "62f0f9e8",
   "metadata": {},
   "outputs": [
    {
     "data": {
      "text/plain": [
       "<seaborn.axisgrid.JointGrid at 0x1e3e8ceb9d0>"
      ]
     },
     "execution_count": 3,
     "metadata": {},
     "output_type": "execute_result"
    },
    {
     "data": {
      "image/png": "[encoded data removed]",
      "text/plain": [
       "<Figure size 432x288 with 1 Axes>"
      ]
     },
     "metadata": {
      "needs_background": "light"
     },
     "output_type": "display_data"
    },
    {
     "data": {
      "image/png": "[encoded data removed]",
      "text/plain": [
       "<Figure size 432x432 with 3 Axes>"
      ]
     },
     "metadata": {
      "needs_background": "light"
     },
     "output_type": "display_data"
    },
    {
     "data": {
      "image/png": "[encoded data removed]",
      "text/plain": [
       "<Figure size 432x432 with 3 Axes>"
      ]
     },
     "metadata": {
      "needs_background": "light"
     },
     "output_type": "display_data"
    },
    {
     "data": {
      "image/png": "[encoded data removed]",
      "text/plain": [
       "<Figure size 432x432 with 3 Axes>"
      ]
     },
     "metadata": {
      "needs_background": "light"
     },
     "output_type": "display_data"
    },
    {
     "data": {
      "image/png": "[encoded data removed]",
      "text/plain": [
       "<Figure size 432x432 with 3 Axes>"
      ]
     },
     "metadata": {
      "needs_background": "light"
     },
     "output_type": "display_data"
    },
    {
     "data": {
      "image/png": "[encoded data removed]",
      "text/plain": [
       "<Figure size 432x432 with 3 Axes>"
      ]
     },
     "metadata": {
      "needs_background": "light"
     },
     "output_type": "display_data"
    },
    {
     "data": {
      "image/png": "[encoded data removed]",
      "text/plain": [
       "<Figure size 432x432 with 3 Axes>"
      ]
     },
     "metadata": {
      "needs_background": "light"
     },
     "output_type": "display_data"
    }
   ],
   "source": [
    "sns.boxplot(x = dframe['MiscFeature'], y = dframe['SalePrice'], data = dframe)\n",
    "sns.jointplot(x = dframe['MiscVal'], y = dframe['SalePrice'], data = dframe, kind = 'reg')\n",
    "sns.jointplot(x = dframe['PoolArea'], y = dframe['SalePrice'], data = dframe, kind = 'reg')\n",
    "sns.jointplot(x = dframe['LowQualFinSF'], y = dframe['SalePrice'], data = dframe, kind = 'reg')\n",
    "sns.jointplot(x = dframe['BsmtFinSF1'], y = dframe['SalePrice'], data = dframe, kind = 'reg')\n",
    "sns.jointplot(x = dframe['BsmtFinSF2'], y = dframe['SalePrice'], data = dframe, kind = 'reg')\n",
    "sns.jointplot(x = dframe['BsmtUnfSF'], y = dframe['SalePrice'], data = dframe, kind = 'reg')\n",
    "#sns.jointplot(x = dframe['GarageArea'], y = dframe['SalePrice'], data=dframe, kind = 'reg')\n",
    "#sns.jointplot(x = dframe['TotRmsAbvGrd'], y = dframe['SalePrice'], data=dframe, kind = 'reg')\n",
    "#sns.jointplot(x = dframe['KitchenAbvGr'], y = dframe['SalePrice'], data=dframe, kind = 'reg')\n",
    "#sns.jointplot(x = dframe['BedroomAbvGr'], y = dframe['SalePrice'], data=dframe, kind = 'reg')\n",
    "#sns.jointplot(x = dframe['GrLivArea'], y = dframe['SalePrice'], data=dframe, kind = 'reg')\n",
    "#sns.jointplot(x = dframe['2ndFlrSF'], y = dframe['SalePrice'], data=dframe, kind = 'reg')\n",
    "#sns.jointplot(x = dframe['1stFlrSF'], y = dframe['SalePrice'], data=dframe, kind = 'reg')\n",
    "#sns.jointplot(x = dframe['TotalBsmtSF'], y = dframe['SalePrice'], data=dframe, kind = 'reg')\n",
    "#sns.boxplot(x = dframe['Neighborhood'], y = dframe['SalePrice'], data=dframe)\n",
    "#sns.boxplot(x = dframe['BldgType'], y = dframe['SalePrice'], data=dframe)\n",
    "#sns.boxplot(x = dframe['HouseStyle'], y = dframe['SalePrice'], data=dframe)#maybe helps\n",
    "#sns.boxplot(x = dframe['MasVnrType'], y = dframe['SalePrice'], data=dframe)#helps\n",
    "#sns.jointplot(x = dframe['MasVnrArea'], y = dframe['SalePrice'], data=dframe, kind = 'reg')#helps\n",
    "#sns.jointplot(x = dframe['YrSold'] - dframe['YearRemodAdd'], y = dframe['SalePrice'], data=dframe, kind = 'reg')\n",
    "#sns.jointplot(x = dframe['YrSold'] - dframe['YearBuilt'], y = dframe['SalePrice'], data=dframe, kind = 'reg')#helps\n",
    "#sns.jointplot(x = dframe['ScreenPorch'], y = dframe['SalePrice'], data=dframe, kind = 'reg')#helps\n",
    "#sns.jointplot(x = dframe['3SsnPorch'], y = dframe['SalePrice'], data=dframe, kind = 'reg')#helps\n",
    "#sns.jointplot(x = dframe['OpenPorchSF'], y = dframe['SalePrice'], data=dframe, kind = 'reg')#helps\n",
    "#sns.jointplot(x = dframe['WoodDeckSF'] + dframe['OpenPorchSF'] + dframe['3SsnPorch'] + dframe['ScreenPorch'], y = dframe['SalePrice'], data=dframe, kind = 'reg')#helps\n",
    "#sns.jointplot(x = dframe['MoSold'], y = dframe['SalePrice'], data=dframe, kind = 'reg')\n",
    "#sns.jointplot(x = dframe['LotShape'], y = dframe['SalePrice'], data=dframe)\n",
    "#sns.jointplot(x = dframe['Street'], y = dframe['SalePrice'], data=dframe)\n",
    "#sns.jointplot(x = dframe['SaleCondition'], y = dframe['SalePrice'], data=dframe)\n",
    "#sns.jointplot(x = dframe['LotFrontage'], y = dframe['SalePrice'], data=dframe)"
   ]
  },
  {
   "cell_type": "markdown",
   "id": "176619cd",
   "metadata": {},
   "source": [
    "# Data Processing"
   ]
  },
  {
   "cell_type": "markdown",
   "id": "0a439b20",
   "metadata": {},
   "source": [
    "Dealing with nan values, feature engineering and converting categorical data into numerical"
   ]
  },
  {
   "cell_type": "code",
   "execution_count": 4,
   "id": "8c420f4b",
   "metadata": {},
   "outputs": [],
   "source": [
    "def data_processing(df) :\n",
    "    df['MSZoning'] = df['MSZoning'].astype(\"category\")\n",
    "    df['MSZoning_num'] = df['MSZoning'].cat.codes\n",
    "    df['SaleType'] = df['SaleType'].astype(\"category\")\n",
    "    df['SaleType_num'] = df['SaleType'].cat.codes\n",
    "    df['SaleCondition'] = df['SaleCondition'].astype(\"category\")\n",
    "    df['SaleCondition_num'] = df['SaleCondition'].cat.codes\n",
    "    df['MasVnrType'] = df['MasVnrType'].astype(\"category\")\n",
    "    df['MasVnrType_num'] = df['MasVnrType'].cat.codes\n",
    "    df['Neighborhood'] = df['Neighborhood'].astype(\"category\")\n",
    "    df['Neighborhood_num'] = df['Neighborhood'].cat.codes\n",
    "    df['Bath'] = df['BsmtFullBath'] + df['BsmtHalfBath'] + df['FullBath'] + df['HalfBath']\n",
    "    df['Porch'] = df['WoodDeckSF'] + df['OpenPorchSF'] + df['3SsnPorch'] + df['ScreenPorch']\n",
    "    df['Age'] = df['YrSold'] - df['YearBuilt']\n",
    "    df['RemodAge'] = df['YrSold'] - df['YearRemodAdd']\n",
    "    df['BsmtFin'] = df['BsmtFinSF1'] + df['BsmtFinSF2']\n",
    "    mean = df['LotFrontage'].mean()\n",
    "    median1 = df['TotRmsAbvGrd'].median()\n",
    "    median2 = df['GarageCars'].median()\n",
    "    median3 = df['Fireplaces'].median()\n",
    "    median4 = df['Bath'].median()\n",
    "    median5 = df['OverallQual'].median()\n",
    "    median6 = df['MSSubClass'].median()\n",
    "    median7 = df['MSZoning_num'].median()\n",
    "    median8 = df['SaleCondition_num'].median()\n",
    "    median9 = df['SaleType_num'].median()\n",
    "    median10 = df['MasVnrType_num'].median()\n",
    "    median11 = df['Neighborhood_num'].median()\n",
    "    median12 = df['BedroomAbvGr'].median()\n",
    "    median13 = df['KitchenAbvGr'].median()\n",
    "    mean1 = df['Porch'].mean()\n",
    "    mean2 = df['Age'].mean()\n",
    "    mean3 = df['RemodAge'].mean()\n",
    "    mean4 = df['MasVnrArea'].mean()\n",
    "    mean5 = df['TotalBsmtSF'].mean()\n",
    "    mean6 = df['LotArea'].mean()\n",
    "    mean7 = df['1stFlrSF'].mean()\n",
    "    mean8 = df['2ndFlrSF'].mean()\n",
    "    mean9 = df['GrLivArea'].mean()\n",
    "    mean10 = df['GarageArea'].mean()\n",
    "    mean11 = df['TotalBsmtSF'].mean()\n",
    "    mean12 = df['LotArea'].mean()\n",
    "    mean13 = df['BsmtFin'].mean()\n",
    "    mean14 = df['BsmtUnfSF'].mean()\n",
    "    mean15 = df['LowQualFinSF'].mean()\n",
    "    df = df.fillna({'LotFrontage' : mean})\n",
    "    df = df.fillna({'TotRmsAbvGrd' : median1})\n",
    "    df = df.fillna({'GarageCars' : median2})\n",
    "    df = df.fillna({'Fireplaces' : median3})\n",
    "    df = df.fillna({'Bath' : median4})\n",
    "    df = df.fillna({'OverallQual' : median5})\n",
    "    df = df.fillna({'MSSubClass' : median6})\n",
    "    df = df.fillna({'MSZoning_num' : median7})\n",
    "    df = df.fillna({'SaleCondition_num' : median8})\n",
    "    df = df.fillna({'SaleType_num' : median9})\n",
    "    df = df.fillna({'Porch' : mean1})\n",
    "    df = df.fillna({'Age' : mean2})\n",
    "    df = df.fillna({'RemodAge' : mean3})\n",
    "    df = df.fillna({'MasVnrArea' : mean4})\n",
    "    df = df.fillna({'MasVnrType_num' : median10})\n",
    "    df = df.fillna({'Neighborhood_num' : median11})\n",
    "    df = df.fillna({'TotalBsmtSF' : mean5})\n",
    "    df = df.fillna({'LotArea' : mean6})\n",
    "    df = df.fillna({'1stFlrSF' : mean7})\n",
    "    df = df.fillna({'2ndFlrSF' : mean8})\n",
    "    df = df.fillna({'GrLivArea' : mean9})\n",
    "    df = df.fillna({'GarageArea' : mean10})\n",
    "    df = df.fillna({'TotalBsmtSF' : mean11})\n",
    "    df = df.fillna({'LotArea' : mean12})\n",
    "    df = df.fillna({'BsmtFin' : mean13})\n",
    "    df = df.fillna({'BsmtUnfSF' : mean14})\n",
    "    df = df.fillna({'LowQualFinSF' : mean15})\n",
    "    df = df.fillna({'BedroomAbvGr' : median12})\n",
    "    df = df.fillna({'KitchenAbvGr' : median13})\n",
    "    X = df[['LotFrontage', 'TotRmsAbvGrd', 'GarageCars', 'Fireplaces', 'Bath', 'OverallQual', 'MSSubClass', 'MSZoning_num', 'Porch', 'Age', 'RemodAge', 'SaleCondition_num', 'MasVnrArea', 'MasVnrType_num', '1stFlrSF', '2ndFlrSF', 'GrLivArea', 'BedroomAbvGr', 'KitchenAbvGr','GarageArea', 'TotalBsmtSF', 'LotArea', 'BsmtFin', 'BsmtUnfSF', 'LowQualFinSF']]    \n",
    "    X = np.array(X)\n",
    "    X[:, 5] = np.square(X[:, 5]) \n",
    "    print(X.shape)\n",
    "    print(np.any(np.isnan(X)))\n",
    "    print(np.any(np.isinf(X)))\n",
    "    return X"
   ]
  },
  {
   "cell_type": "markdown",
   "id": "7f12beaa",
   "metadata": {},
   "source": [
    "# Normalizing the data"
   ]
  },
  {
   "cell_type": "code",
   "execution_count": 5,
   "id": "c3ee87a4",
   "metadata": {},
   "outputs": [],
   "source": [
    "def normalize(X) : \n",
    "    mean = np.mean(X, axis = 0, keepdims = True)\n",
    "    s = np.std(X, axis = 0, keepdims = True)\n",
    "    X = (X - mean) / s\n",
    "    print(X.shape)\n",
    "    return X"
   ]
  },
  {
   "cell_type": "code",
   "execution_count": 6,
   "id": "d9b9f691",
   "metadata": {},
   "outputs": [
    {
     "name": "stdout",
     "output_type": "stream",
     "text": [
      "(1460, 25)\n",
      "False\n",
      "False\n",
      "(1460, 25)\n",
      "(1460, 1)\n"
     ]
    }
   ],
   "source": [
    "x_processed = data_processing(dframe)\n",
    "x_processed = normalize(x_processed)\n",
    "y = np.array(dframe[[\"SalePrice\"]])\n",
    "print(y.shape)"
   ]
  },
  {
   "cell_type": "markdown",
   "id": "6fcaca8a",
   "metadata": {},
   "source": [
    "# Splitting the data"
   ]
  },
  {
   "cell_type": "code",
   "execution_count": 7,
   "id": "229bd52c",
   "metadata": {},
   "outputs": [],
   "source": [
    "def data_split(x_p, y_p, split_percent = 0.8) : \n",
    "    m_p = x_p.shape[0]\n",
    "    temp = (int)(split_percent * m_p)\n",
    "    x_t = x_p[:temp, :]\n",
    "    x_c = x_p[temp : , :]\n",
    "    y_t = y_p[:temp, :]\n",
    "    y_c = y_p[temp: , :]\n",
    "    return x_t, y_t, x_c, y_c"
   ]
  },
  {
   "cell_type": "code",
   "execution_count": 8,
   "id": "641d20e1",
   "metadata": {},
   "outputs": [
    {
     "name": "stdout",
     "output_type": "stream",
     "text": [
      "x_train shape : (1168, 25)\n",
      "y_train shape : (1168, 1)\n",
      "x_cv shape : (292, 25)\n",
      "y_cv shape : (292, 1)\n"
     ]
    }
   ],
   "source": [
    "x_train, y_train, x_cv, y_cv = data_split(x_processed, y)\n",
    "print(\"x_train shape : \" + str(x_train.shape))\n",
    "print(\"y_train shape : \" + str(y_train.shape))\n",
    "print(\"x_cv shape : \" + str(x_cv.shape))\n",
    "print(\"y_cv shape : \" + str(y_cv.shape))"
   ]
  },
  {
   "cell_type": "markdown",
   "id": "3edd4277",
   "metadata": {},
   "source": [
    "# Multivariate Linear Regression Model "
   ]
  },
  {
   "cell_type": "code",
   "execution_count": 9,
   "id": "66909a00",
   "metadata": {},
   "outputs": [],
   "source": [
    "def initialize_params(n_f) : \n",
    "    bf = 0.0\n",
    "    thetaf = np.random.randn(n_f, 1)\n",
    "    return thetaf, bf"
   ]
  },
  {
   "cell_type": "code",
   "execution_count": 10,
   "id": "50a6d09d",
   "metadata": {},
   "outputs": [],
   "source": [
    "def predict(x, theta, b) : \n",
    "    h = np.dot(x, theta) + b\n",
    "    return h"
   ]
  },
  {
   "cell_type": "code",
   "execution_count": 11,
   "id": "ce00504e",
   "metadata": {},
   "outputs": [],
   "source": [
    "def compute_cost(n_m, x, y, theta, b, lambd = 0) :\n",
    "    p = predict(x, theta, b)\n",
    "    j = (np.sum((p - y)**2) + (lambd * np.sum(np.dot(theta.T, theta))))/(2*n_m)\n",
    "    return j"
   ]
  },
  {
   "cell_type": "code",
   "execution_count": 12,
   "id": "bb30fd9c",
   "metadata": {},
   "outputs": [],
   "source": [
    "def gradient_descent(x, y, theta, b, learning_rate = 0.1, iter = 1000, lambd = 0) :\n",
    "    n_m = x.shape[0]\n",
    "    c = []\n",
    "    for i in range(iter) : \n",
    "        p = predict(x, theta, b)\n",
    "        theta = theta - (learning_rate / n_m) * (np.dot(x.T, (p - y)) + lambd * theta)\n",
    "        b = b - (learning_rate/n_m) * np.sum(p - y)\n",
    "        if(i%10 == 0) : \n",
    "            cost = compute_cost(n_m, x, y, theta, b, lambd)\n",
    "            c.append(cost)\n",
    "            print(\"Cost after \"+ str(i) + \" iteration : \" + str(cost))\n",
    "    c = np.squeeze(c)\n",
    "    plt.plot(c)\n",
    "    plt.show()\n",
    "    return theta, b"
   ]
  },
  {
   "cell_type": "code",
   "execution_count": 13,
   "id": "326dcd9e",
   "metadata": {},
   "outputs": [],
   "source": [
    "def model(x_train, y_train, x_cv, y_cv, learning_rate = 0.1, iter = 1000, lambd = 0) : \n",
    "    nf = x_train.shape[1]\n",
    "    theta, b = initialize_params(nf)\n",
    "    theta, b = gradient_descent(x_train, y_train, theta, b, learning_rate, iter, lambd)\n",
    "    y_train_predict = predict(x_train, theta, b)\n",
    "    y_cv_predict = predict(x_cv, theta, b)\n",
    "    \n",
    "    accuracy_test = 100 - (np.mean(np.abs(y_train_predict - y_train) / y_train * 100))\n",
    "    accuracy_cv = 100 - (np.mean(np.abs(y_cv_predict - y_cv) / y_cv * 100))\n",
    "    print(\"Test Case accuracy : \" + str(accuracy_test) + \" %\")\n",
    "    print(\"Cross validation accuracy : \" + str(accuracy_cv) + \" %\")\n",
    "    return theta, b"
   ]
  },
  {
   "cell_type": "code",
   "execution_count": 14,
   "id": "d4b737f0",
   "metadata": {},
   "outputs": [
    {
     "name": "stdout",
     "output_type": "stream",
     "text": [
      "Cost after 0 iteration : 16529284915.91752\n",
      "Cost after 10 iteration : 5843791846.658582\n",
      "Cost after 20 iteration : 2395081232.50499\n",
      "Cost after 30 iteration : 1151269090.648295\n",
      "Cost after 40 iteration : 699764719.3452508\n",
      "Cost after 50 iteration : 534274442.6216955\n",
      "Cost after 60 iteration : 472603036.0733931\n",
      "Cost after 70 iteration : 448947166.19816536\n",
      "Cost after 80 iteration : 439418514.87227273\n",
      "Cost after 90 iteration : 435274302.7660299\n",
      "Cost after 100 iteration : 433271424.45318675\n",
      "Cost after 110 iteration : 432179271.2855076\n",
      "Cost after 120 iteration : 431512963.30221635\n",
      "Cost after 130 iteration : 431069742.0800451\n",
      "Cost after 140 iteration : 430757270.3344264\n",
      "Cost after 150 iteration : 430528799.56588256\n",
      "Cost after 160 iteration : 430357913.7661033\n",
      "Cost after 170 iteration : 430228200.3490893\n",
      "Cost after 180 iteration : 430128717.8067007\n"
     ]
    },
    {
     "data": {
      "image/png": "[encoded data removed]",
      "text/plain": [
       "<Figure size 432x288 with 1 Axes>"
      ]
     },
     "metadata": {
      "needs_background": "light"
     },
     "output_type": "display_data"
    },
    {
     "name": "stdout",
     "output_type": "stream",
     "text": [
      "Test Case accuracy : 88.9103130911052 %\n",
      "Cross validation accuracy : 86.51699496053483 %\n"
     ]
    }
   ],
   "source": [
    "theta1, b1 = model(x_train, y_train, x_cv, y_cv, learning_rate = 0.05, iter = 181)\n",
    "#print(\"theta final : \" + str(theta1))\n",
    "#print(\"b final : \" + str(b1))"
   ]
  },
  {
   "cell_type": "code",
   "execution_count": 16,
   "id": "1c3689fc",
   "metadata": {},
   "outputs": [],
   "source": [
    "prediction_train = predict(x_train, theta1, b1)\n",
    "prediction_cv = predict(x_cv, theta1, b1)"
   ]
  },
  {
   "cell_type": "markdown",
   "id": "8cf45895",
   "metadata": {},
   "source": [
    "# Mean squared error of the log of the values"
   ]
  },
  {
   "cell_type": "code",
   "execution_count": 17,
   "id": "0fc21933",
   "metadata": {},
   "outputs": [
    {
     "name": "stdout",
     "output_type": "stream",
     "text": [
      "train RMSE: 0.1611808618393972\n",
      "cv RMSE: 0.18760333148857944\n"
     ]
    }
   ],
   "source": [
    "print(\"train RMSE:\", np.sqrt(mean_squared_error(np.log(y_train),np.log(prediction_train))))\n",
    "print(\"cv RMSE:\", np.sqrt(mean_squared_error(np.log(y_cv),np.log(prediction_cv))))"
   ]
  },
  {
   "cell_type": "markdown",
   "id": "11fbf5e8",
   "metadata": {},
   "source": [
    "# Sklearn Linear Regression Model"
   ]
  },
  {
   "cell_type": "code",
   "execution_count": 18,
   "id": "262e8654",
   "metadata": {},
   "outputs": [
    {
     "name": "stdout",
     "output_type": "stream",
     "text": [
      "cv RMSE: 0.18745113133300345\n"
     ]
    }
   ],
   "source": [
    "cls = linear_model.LinearRegression()\n",
    "cls.fit(x_train, y_train)\n",
    "predict1 = cls.predict(x_cv)\n",
    "print(\"cv RMSE:\", np.sqrt(mean_squared_error(np.log(y_cv),np.log(predict1))))"
   ]
  },
  {
   "cell_type": "markdown",
   "id": "46819b87",
   "metadata": {},
   "source": [
    "# Random Forest Regressor"
   ]
  },
  {
   "cell_type": "code",
   "execution_count": 19,
   "id": "221abf17",
   "metadata": {},
   "outputs": [
    {
     "name": "stdout",
     "output_type": "stream",
     "text": [
      "cv RMSE: 0.15790256575546618\n"
     ]
    }
   ],
   "source": [
    "clf1 = RandomForestRegressor(n_estimators = 500)\n",
    "y_train = y_train.reshape(-1)\n",
    "clf1.fit(x_train, y_train)\n",
    "y_pred1 = clf1.predict(x_cv)\n",
    "print(\"cv RMSE:\", np.sqrt(mean_squared_error(np.log(y_cv),np.log(y_pred1))))"
   ]
  },
  {
   "cell_type": "code",
   "execution_count": 20,
   "id": "829c136f",
   "metadata": {},
   "outputs": [
    {
     "name": "stdout",
     "output_type": "stream",
     "text": [
      "Train Score :  0.9801993998009508\n",
      "Test Score :  0.8352749542923392\n"
     ]
    }
   ],
   "source": [
    "print(\"Train Score : \", clf1.score(x_train, y_train))\n",
    "print(\"Test Score : \", clf1.score(x_cv, y_cv))"
   ]
  },
  {
   "cell_type": "markdown",
   "id": "a5fd4524",
   "metadata": {},
   "source": [
    "# Predicting output for test data"
   ]
  },
  {
   "cell_type": "code",
   "execution_count": 21,
   "id": "cab7c136",
   "metadata": {},
   "outputs": [
    {
     "data": {
      "text/html": [
       "<div>\n",
       "<style scoped>\n",
       "    .dataframe tbody tr th:only-of-type {\n",
       "        vertical-align: middle;\n",
       "    }\n",
       "\n",
       "    .dataframe tbody tr th {\n",
       "        vertical-align: top;\n",
       "    }\n",
       "\n",
       "    .dataframe thead th {\n",
       "        text-align: right;\n",
       "    }\n",
       "</style>\n",
       "<table border=\"1\" class=\"dataframe\">\n",
       "  <thead>\n",
       "    <tr style=\"text-align: right;\">\n",
       "      <th></th>\n",
       "      <th>Id</th>\n",
       "      <th>MSSubClass</th>\n",
       "      <th>MSZoning</th>\n",
       "      <th>LotFrontage</th>\n",
       "      <th>LotArea</th>\n",
       "      <th>Street</th>\n",
       "      <th>Alley</th>\n",
       "      <th>LotShape</th>\n",
       "      <th>LandContour</th>\n",
       "      <th>Utilities</th>\n",
       "      <th>...</th>\n",
       "      <th>ScreenPorch</th>\n",
       "      <th>PoolArea</th>\n",
       "      <th>PoolQC</th>\n",
       "      <th>Fence</th>\n",
       "      <th>MiscFeature</th>\n",
       "      <th>MiscVal</th>\n",
       "      <th>MoSold</th>\n",
       "      <th>YrSold</th>\n",
       "      <th>SaleType</th>\n",
       "      <th>SaleCondition</th>\n",
       "    </tr>\n",
       "  </thead>\n",
       "  <tbody>\n",
       "    <tr>\n",
       "      <th>0</th>\n",
       "      <td>1461</td>\n",
       "      <td>20</td>\n",
       "      <td>RH</td>\n",
       "      <td>80.0</td>\n",
       "      <td>11622</td>\n",
       "      <td>Pave</td>\n",
       "      <td>NaN</td>\n",
       "      <td>Reg</td>\n",
       "      <td>Lvl</td>\n",
       "      <td>AllPub</td>\n",
       "      <td>...</td>\n",
       "      <td>120</td>\n",
       "      <td>0</td>\n",
       "      <td>NaN</td>\n",
       "      <td>MnPrv</td>\n",
       "      <td>NaN</td>\n",
       "      <td>0</td>\n",
       "      <td>6</td>\n",
       "      <td>2010</td>\n",
       "      <td>WD</td>\n",
       "      <td>Normal</td>\n",
       "    </tr>\n",
       "    <tr>\n",
       "      <th>1</th>\n",
       "      <td>1462</td>\n",
       "      <td>20</td>\n",
       "      <td>RL</td>\n",
       "      <td>81.0</td>\n",
       "      <td>14267</td>\n",
       "      <td>Pave</td>\n",
       "      <td>NaN</td>\n",
       "      <td>IR1</td>\n",
       "      <td>Lvl</td>\n",
       "      <td>AllPub</td>\n",
       "      <td>...</td>\n",
       "      <td>0</td>\n",
       "      <td>0</td>\n",
       "      <td>NaN</td>\n",
       "      <td>NaN</td>\n",
       "      <td>Gar2</td>\n",
       "      <td>12500</td>\n",
       "      <td>6</td>\n",
       "      <td>2010</td>\n",
       "      <td>WD</td>\n",
       "      <td>Normal</td>\n",
       "    </tr>\n",
       "    <tr>\n",
       "      <th>2</th>\n",
       "      <td>1463</td>\n",
       "      <td>60</td>\n",
       "      <td>RL</td>\n",
       "      <td>74.0</td>\n",
       "      <td>13830</td>\n",
       "      <td>Pave</td>\n",
       "      <td>NaN</td>\n",
       "      <td>IR1</td>\n",
       "      <td>Lvl</td>\n",
       "      <td>AllPub</td>\n",
       "      <td>...</td>\n",
       "      <td>0</td>\n",
       "      <td>0</td>\n",
       "      <td>NaN</td>\n",
       "      <td>MnPrv</td>\n",
       "      <td>NaN</td>\n",
       "      <td>0</td>\n",
       "      <td>3</td>\n",
       "      <td>2010</td>\n",
       "      <td>WD</td>\n",
       "      <td>Normal</td>\n",
       "    </tr>\n",
       "    <tr>\n",
       "      <th>3</th>\n",
       "      <td>1464</td>\n",
       "      <td>60</td>\n",
       "      <td>RL</td>\n",
       "      <td>78.0</td>\n",
       "      <td>9978</td>\n",
       "      <td>Pave</td>\n",
       "      <td>NaN</td>\n",
       "      <td>IR1</td>\n",
       "      <td>Lvl</td>\n",
       "      <td>AllPub</td>\n",
       "      <td>...</td>\n",
       "      <td>0</td>\n",
       "      <td>0</td>\n",
       "      <td>NaN</td>\n",
       "      <td>NaN</td>\n",
       "      <td>NaN</td>\n",
       "      <td>0</td>\n",
       "      <td>6</td>\n",
       "      <td>2010</td>\n",
       "      <td>WD</td>\n",
       "      <td>Normal</td>\n",
       "    </tr>\n",
       "    <tr>\n",
       "      <th>4</th>\n",
       "      <td>1465</td>\n",
       "      <td>120</td>\n",
       "      <td>RL</td>\n",
       "      <td>43.0</td>\n",
       "      <td>5005</td>\n",
       "      <td>Pave</td>\n",
       "      <td>NaN</td>\n",
       "      <td>IR1</td>\n",
       "      <td>HLS</td>\n",
       "      <td>AllPub</td>\n",
       "      <td>...</td>\n",
       "      <td>144</td>\n",
       "      <td>0</td>\n",
       "      <td>NaN</td>\n",
       "      <td>NaN</td>\n",
       "      <td>NaN</td>\n",
       "      <td>0</td>\n",
       "      <td>1</td>\n",
       "      <td>2010</td>\n",
       "      <td>WD</td>\n",
       "      <td>Normal</td>\n",
       "    </tr>\n",
       "  </tbody>\n",
       "</table>\n",
       "<p>5 rows × 80 columns</p>\n",
       "</div>"
      ],
      "text/plain": [
       "     Id  MSSubClass MSZoning  LotFrontage  LotArea Street Alley LotShape  \\\n",
       "0  1461          20       RH         80.0    11622   Pave   NaN      Reg   \n",
       "1  1462          20       RL         81.0    14267   Pave   NaN      IR1   \n",
       "2  1463          60       RL         74.0    13830   Pave   NaN      IR1   \n",
       "3  1464          60       RL         78.0     9978   Pave   NaN      IR1   \n",
       "4  1465         120       RL         43.0     5005   Pave   NaN      IR1   \n",
       "\n",
       "  LandContour Utilities  ... ScreenPorch PoolArea PoolQC  Fence MiscFeature  \\\n",
       "0         Lvl    AllPub  ...         120        0    NaN  MnPrv         NaN   \n",
       "1         Lvl    AllPub  ...           0        0    NaN    NaN        Gar2   \n",
       "2         Lvl    AllPub  ...           0        0    NaN  MnPrv         NaN   \n",
       "3         Lvl    AllPub  ...           0        0    NaN    NaN         NaN   \n",
       "4         HLS    AllPub  ...         144        0    NaN    NaN         NaN   \n",
       "\n",
       "  MiscVal MoSold  YrSold  SaleType  SaleCondition  \n",
       "0       0      6    2010        WD         Normal  \n",
       "1   12500      6    2010        WD         Normal  \n",
       "2       0      3    2010        WD         Normal  \n",
       "3       0      6    2010        WD         Normal  \n",
       "4       0      1    2010        WD         Normal  \n",
       "\n",
       "[5 rows x 80 columns]"
      ]
     },
     "execution_count": 21,
     "metadata": {},
     "output_type": "execute_result"
    }
   ],
   "source": [
    "df_test = pd.read_csv('C:/Users/ANUSKA RAY/Downloads/test.csv')\n",
    "df_test.head()"
   ]
  },
  {
   "cell_type": "code",
   "execution_count": 22,
   "id": "b395558e",
   "metadata": {},
   "outputs": [
    {
     "name": "stdout",
     "output_type": "stream",
     "text": [
      "(1459, 25)\n",
      "False\n",
      "False\n",
      "(1459, 25)\n"
     ]
    }
   ],
   "source": [
    "df_test['Id'] = df_test['Id'] - df_test['Id'][0] + 1\n",
    "x_test = data_processing(df_test)\n",
    "x_test = normalize(x_test)"
   ]
  },
  {
   "cell_type": "markdown",
   "id": "68eeb4b1",
   "metadata": {},
   "source": [
    "Training data on the multivariate linear regression data"
   ]
  },
  {
   "cell_type": "code",
   "execution_count": 23,
   "id": "ff0f295b",
   "metadata": {},
   "outputs": [
    {
     "name": "stdout",
     "output_type": "stream",
     "text": [
      "(1459,)\n",
      "     Id      SalePrice\n",
      "0  1461  132726.016121\n",
      "1  1462  169867.801217\n",
      "2  1463  184846.881306\n",
      "3  1464  193536.960383\n",
      "4  1465  193070.990102\n"
     ]
    }
   ],
   "source": [
    "final_predict = predict(x_test, theta1, b1)\n",
    "Id_test = np.array(df_test['Id'] + 1460)\n",
    "Id_test = Id_test.reshape(-1)\n",
    "final_predict = final_predict.reshape(-1)\n",
    "print(Id_test.shape)\n",
    "\n",
    "out_dict = {'Id' : Id_test, 'SalePrice' : final_predict}\n",
    "output = pd.DataFrame(out_dict)\n",
    "print(output.head())\n",
    "#output.to_csv('submission3.csv', index = False)"
   ]
  },
  {
   "cell_type": "code",
   "execution_count": null,
   "id": "534cf1fd",
   "metadata": {},
   "outputs": [],
   "source": []
  }
 ],
 "metadata": {
  "kernelspec": {
   "display_name": "Python 3",
   "language": "python",
   "name": "python3"
  },
  "language_info": {
   "codemirror_mode": {
    "name": "ipython",
    "version": 3
   },
   "file_extension": ".py",
   "mimetype": "text/x-python",
   "name": "python",
   "nbconvert_exporter": "python",
   "pygments_lexer": "ipython3",
   "version": "3.8.8"
  }
 },
 "nbformat": 4,
 "nbformat_minor": 5
}
